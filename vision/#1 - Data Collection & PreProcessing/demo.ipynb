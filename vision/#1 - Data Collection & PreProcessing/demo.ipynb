{
 "cells": [
  {
   "cell_type": "code",
   "execution_count": 7,
   "metadata": {},
   "outputs": [],
   "source": [
    "import os\n",
    "from tqdm import tqdm\n",
    "from glob import glob\n",
    "import pandas as pd\n",
    "from xml.etree import ElementTree as et\n",
    "from functools import reduce\n",
    "from shutil import move\n",
    "import matplotlib.pyplot as plt\n",
    "\n",
    "import warnings\n",
    "warnings.filterwarnings('ignore')"
   ]
  },
  {
   "cell_type": "code",
   "execution_count": 10,
   "metadata": {},
   "outputs": [],
   "source": [
    "tree = et.parse('test.xml')\n",
    "root = tree.getroot()\n",
    "# Get Name Image, Width, Height\n",
    "image_name = root.find('filename').text\n",
    "width = root.find('size').find('width').text\n",
    "height = root.find('size').find('height').text\n",
    "\n",
    "# Get Objects, Bounding Box\n",
    "objs = root.findall('object')\n",
    "parser = []\n",
    "for obj in objs:\n",
    "    name = obj.find('name').text\n",
    "    bndbox = obj.find('bndbox')\n",
    "    xmin = bndbox.find('xmin').text\n",
    "    xmax = bndbox.find('xmax').text\n",
    "    ymin = bndbox.find('ymin').text\n",
    "    ymax = bndbox.find('ymax').text\n",
    "    parser.append([image_name, width, height, name, xmin, xmax, ymin, ymax])\n"
   ]
  },
  {
   "cell_type": "code",
   "execution_count": 11,
   "metadata": {},
   "outputs": [
    {
     "data": {
      "text/plain": [
       "[['chlorotic-and-drying-of-leaves_jpg.rf.ded356f6a70cb5b5cf7c7518664bec05.jpg',\n",
       "  '640',\n",
       "  '640',\n",
       "  'Early_blight',\n",
       "  '239',\n",
       "  '433',\n",
       "  '176',\n",
       "  '416']]"
      ]
     },
     "execution_count": 11,
     "metadata": {},
     "output_type": "execute_result"
    }
   ],
   "source": [
    "parser"
   ]
  },
  {
   "cell_type": "code",
   "execution_count": null,
   "metadata": {},
   "outputs": [],
   "source": []
  }
 ],
 "metadata": {
  "kernelspec": {
   "display_name": "base",
   "language": "python",
   "name": "python3"
  },
  "language_info": {
   "codemirror_mode": {
    "name": "ipython",
    "version": 3
   },
   "file_extension": ".py",
   "mimetype": "text/x-python",
   "name": "python",
   "nbconvert_exporter": "python",
   "pygments_lexer": "ipython3",
   "version": "3.12.7"
  }
 },
 "nbformat": 4,
 "nbformat_minor": 2
}

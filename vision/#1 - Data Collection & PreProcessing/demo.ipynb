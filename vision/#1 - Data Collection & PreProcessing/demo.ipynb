{
 "cells": [
  {
   "cell_type": "code",
   "execution_count": 207,
   "metadata": {},
   "outputs": [],
   "source": [
    "\n",
    "class_id = {\n",
    "    'Bell_pepper leaf spot': 1,\n",
    "    'Potato leaf early blight': 2,\n",
    "    'Strawberry leaf': 3,\n",
    "    'grape leaf': 4,\n",
    "    'grape leaf black rot': 5,\n",
    "    'Tomato leaf': 6,\n",
    "    'Bell_pepper leaf': 7,\n",
    "    'Potato leaf': 8,\n",
    "    'Peach leaf': 9,\n",
    "    'Corn leaf blight': 10,\n",
    "    'Apple Scab Leaf': 11,\n",
    "    'Cherry leaf': 12,\n",
    "    'Tomato leaf bacterial spot': 13,\n",
    "    'Tomato leaf yellow virus': 14,\n",
    "    'Corn Gray leaf spot': 15,\n",
    "    'Apple rust leaf': 16,\n",
    "    'Raspberry leaf': 17,\n",
    "    'Blueberry leaf': 18,\n",
    "    'Squash Powdery mildew leaf': 19,\n",
    "    'Tomato mold leaf': 20,\n",
    "    'Tomato Early blight leaf': 21,\n",
    "    'Tomato leaf late blight': 22,\n",
    "    'Tomato Septoria leaf spot': 23,\n",
    "    'Tomato leaf mosaic virus': 24,\n",
    "    'Potato leaf late blight': 25,\n",
    "    'Apple leaf': 26,\n",
    "    'Corn rust leaf': 27,\n",
    "    'Soyabean leaf': 28,\n",
    "    'Tomato two spotted spider mites leaf': 29\n",
    "}"
   ]
  }
 ],
 "metadata": {
  "kernelspec": {
   "display_name": "base",
   "language": "python",
   "name": "python3"
  },
  "language_info": {
   "codemirror_mode": {
    "name": "ipython",
    "version": 3
   },
   "file_extension": ".py",
   "mimetype": "text/x-python",
   "name": "python",
   "nbconvert_exporter": "python",
   "pygments_lexer": "ipython3",
   "version": "3.12.7"
  }
 },
 "nbformat": 4,
 "nbformat_minor": 2
}

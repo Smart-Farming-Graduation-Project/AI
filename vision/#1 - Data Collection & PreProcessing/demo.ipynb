{
 "cells": [
  {
   "cell_type": "code",
   "execution_count": 2,
   "metadata": {},
   "outputs": [],
   "source": [
    "import os\n",
    "# from tqdm import tqdm\n",
    "from glob import glob\n",
    "import pandas as pd\n",
    "from xml.etree import ElementTree as et\n",
    "from functools import reduce\n",
    "from shutil import move\n",
    "import matplotlib.pyplot as plt\n",
    "\n",
    "import warnings\n",
    "warnings.filterwarnings('ignore')"
   ]
  },
  {
   "cell_type": "code",
   "execution_count": 3,
   "metadata": {},
   "outputs": [],
   "source": [
    "tree = et.parse('test.xml')\n",
    "root = tree.getroot()\n",
    "# Get Name Image, Width, Height\n",
    "image_name = root.find('filename').text\n",
    "width = root.find('size').find('width').text\n",
    "height = root.find('size').find('height').text\n",
    "\n",
    "# Get Objects, Bounding Box\n",
    "objs = root.findall('object')\n",
    "parser = []\n",
    "for obj in objs:\n",
    "    name = obj.find('name').text\n",
    "    bndbox = obj.find('bndbox')\n",
    "    xmin = bndbox.find('xmin').text\n",
    "    xmax = bndbox.find('xmax').text\n",
    "    ymin = bndbox.find('ymin').text\n",
    "    ymax = bndbox.find('ymax').text\n",
    "    parser.append([image_name, width, height, name, xmin, xmax, ymin, ymax])\n"
   ]
  },
  {
   "cell_type": "code",
   "execution_count": 11,
   "metadata": {},
   "outputs": [
    {
     "data": {
      "text/plain": [
       "[['chlorotic-and-drying-of-leaves_jpg.rf.ded356f6a70cb5b5cf7c7518664bec05.jpg',\n",
       "  '640',\n",
       "  '640',\n",
       "  'Early_blight',\n",
       "  '239',\n",
       "  '433',\n",
       "  '176',\n",
       "  '416']]"
      ]
     },
     "execution_count": 11,
     "metadata": {},
     "output_type": "execute_result"
    }
   ],
   "source": [
    "parser"
   ]
  },
  {
   "cell_type": "code",
   "execution_count": 5,
   "metadata": {},
   "outputs": [],
   "source": [
    "def Convert_coordinates(width, height, xmin, xmax, ymin, ymax):\n",
    "    '''\n",
    "    Functionality of this function Converts bounding box coordinates (xmin, xmax, ymin, ymax)\n",
    "    to normalized center coordinates (x_center, y_center) and relative width/height.\n",
    "    Returns:\n",
    "        x_center, y_center, new_width, new_height (all normalized to [0, 1])\n",
    "    '''\n",
    "    new_width = (xmax - xmin) / width\n",
    "    new_height = (ymax - ymin) / height\n",
    "    x_center = (xmin / width) + (new_width / 2)\n",
    "    y_center = (ymin / height) + (new_height / 2)\n",
    "\n",
    "    return x_center , y_center , new_width , new_height"
   ]
  },
  {
   "cell_type": "code",
   "execution_count": 12,
   "metadata": {},
   "outputs": [
    {
     "data": {
      "text/plain": [
       "(0.5249999999999999, 0.4625, 0.303125, 0.375)"
      ]
     },
     "execution_count": 12,
     "metadata": {},
     "output_type": "execute_result"
    }
   ],
   "source": [
    "Convert_coordinates(640 , 640 , 239 , 433 , 176 , 416)"
   ]
  },
  {
   "cell_type": "code",
   "execution_count": 13,
   "metadata": {},
   "outputs": [],
   "source": [
    "import cv2\n",
    "\n",
    "x_center, y_center, width_norm, height_norm = 0.5249999999999999, 0.4625, 0.303125, 0.375\n",
    "\n",
    "image = cv2.imread('test.jpg')  \n",
    "img_height, img_width = image.shape[:2]  \n",
    "\n",
    "xmin = int((x_center - width_norm / 2) * img_width)\n",
    "xmax = int((x_center + width_norm / 2) * img_width)\n",
    "ymin = int((y_center - height_norm / 2) * img_height)\n",
    "ymax = int((y_center + height_norm / 2) * img_height)\n",
    "\n",
    "color = (255,0, 0)  \n",
    "thickness = 2  \n",
    "cv2.rectangle(image, (xmin, ymin), (xmax, ymax), color, thickness)\n",
    "\n",
    "cv2.imshow('Image with Bounding Box', image)\n",
    "cv2.waitKey(0) \n",
    "cv2.destroyAllWindows()"
   ]
  }
 ],
 "metadata": {
  "kernelspec": {
   "display_name": "Python 3",
   "language": "python",
   "name": "python3"
  },
  "language_info": {
   "codemirror_mode": {
    "name": "ipython",
    "version": 3
   },
   "file_extension": ".py",
   "mimetype": "text/x-python",
   "name": "python",
   "nbconvert_exporter": "python",
   "pygments_lexer": "ipython3",
   "version": "3.12.0"
  }
 },
 "nbformat": 4,
 "nbformat_minor": 2
}
